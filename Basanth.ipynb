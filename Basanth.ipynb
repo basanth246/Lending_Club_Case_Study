{
 "cells": [
  {
   "cell_type": "code",
   "execution_count": 1,
   "id": "5cb51ff0",
   "metadata": {},
   "outputs": [],
   "source": [
    "import pandas as pd\n",
    "import numpy as np\n",
    "import matplotlib.pyplot as plt#Data Visualization Libraries\n",
    "import seaborn as sns #Data Visualization Libraries\n",
    "import warnings\n",
    "warnings.filterwarnings('ignore')"
   ]
  },
  {
   "cell_type": "markdown",
   "id": "9ff4e775",
   "metadata": {},
   "source": [
    "# Problem statement :\n",
    "### Findout the risk factors for losing money while lending to customers"
   ]
  },
  {
   "cell_type": "code",
   "execution_count": 2,
   "id": "28a92bfc",
   "metadata": {},
   "outputs": [],
   "source": [
    "data = pd.read_csv('Desktop/tableau works/ctm/upgrad/LendingClubCaseStydy/loan.csv')"
   ]
  },
  {
   "cell_type": "code",
   "execution_count": 3,
   "id": "d80fb246",
   "metadata": {},
   "outputs": [
    {
     "data": {
      "text/html": [
       "<div>\n",
       "<style scoped>\n",
       "    .dataframe tbody tr th:only-of-type {\n",
       "        vertical-align: middle;\n",
       "    }\n",
       "\n",
       "    .dataframe tbody tr th {\n",
       "        vertical-align: top;\n",
       "    }\n",
       "\n",
       "    .dataframe thead th {\n",
       "        text-align: right;\n",
       "    }\n",
       "</style>\n",
       "<table border=\"1\" class=\"dataframe\">\n",
       "  <thead>\n",
       "    <tr style=\"text-align: right;\">\n",
       "      <th></th>\n",
       "      <th>id</th>\n",
       "      <th>member_id</th>\n",
       "      <th>loan_amnt</th>\n",
       "      <th>funded_amnt</th>\n",
       "      <th>funded_amnt_inv</th>\n",
       "      <th>term</th>\n",
       "      <th>int_rate</th>\n",
       "      <th>installment</th>\n",
       "      <th>grade</th>\n",
       "      <th>sub_grade</th>\n",
       "      <th>...</th>\n",
       "      <th>num_tl_90g_dpd_24m</th>\n",
       "      <th>num_tl_op_past_12m</th>\n",
       "      <th>pct_tl_nvr_dlq</th>\n",
       "      <th>percent_bc_gt_75</th>\n",
       "      <th>pub_rec_bankruptcies</th>\n",
       "      <th>tax_liens</th>\n",
       "      <th>tot_hi_cred_lim</th>\n",
       "      <th>total_bal_ex_mort</th>\n",
       "      <th>total_bc_limit</th>\n",
       "      <th>total_il_high_credit_limit</th>\n",
       "    </tr>\n",
       "  </thead>\n",
       "  <tbody>\n",
       "    <tr>\n",
       "      <th>0</th>\n",
       "      <td>1077501</td>\n",
       "      <td>1296599</td>\n",
       "      <td>5000</td>\n",
       "      <td>5000</td>\n",
       "      <td>4975.0</td>\n",
       "      <td>36 months</td>\n",
       "      <td>10.65%</td>\n",
       "      <td>162.87</td>\n",
       "      <td>B</td>\n",
       "      <td>B2</td>\n",
       "      <td>...</td>\n",
       "      <td>NaN</td>\n",
       "      <td>NaN</td>\n",
       "      <td>NaN</td>\n",
       "      <td>NaN</td>\n",
       "      <td>0.0</td>\n",
       "      <td>0.0</td>\n",
       "      <td>NaN</td>\n",
       "      <td>NaN</td>\n",
       "      <td>NaN</td>\n",
       "      <td>NaN</td>\n",
       "    </tr>\n",
       "    <tr>\n",
       "      <th>1</th>\n",
       "      <td>1077430</td>\n",
       "      <td>1314167</td>\n",
       "      <td>2500</td>\n",
       "      <td>2500</td>\n",
       "      <td>2500.0</td>\n",
       "      <td>60 months</td>\n",
       "      <td>15.27%</td>\n",
       "      <td>59.83</td>\n",
       "      <td>C</td>\n",
       "      <td>C4</td>\n",
       "      <td>...</td>\n",
       "      <td>NaN</td>\n",
       "      <td>NaN</td>\n",
       "      <td>NaN</td>\n",
       "      <td>NaN</td>\n",
       "      <td>0.0</td>\n",
       "      <td>0.0</td>\n",
       "      <td>NaN</td>\n",
       "      <td>NaN</td>\n",
       "      <td>NaN</td>\n",
       "      <td>NaN</td>\n",
       "    </tr>\n",
       "    <tr>\n",
       "      <th>2</th>\n",
       "      <td>1077175</td>\n",
       "      <td>1313524</td>\n",
       "      <td>2400</td>\n",
       "      <td>2400</td>\n",
       "      <td>2400.0</td>\n",
       "      <td>36 months</td>\n",
       "      <td>15.96%</td>\n",
       "      <td>84.33</td>\n",
       "      <td>C</td>\n",
       "      <td>C5</td>\n",
       "      <td>...</td>\n",
       "      <td>NaN</td>\n",
       "      <td>NaN</td>\n",
       "      <td>NaN</td>\n",
       "      <td>NaN</td>\n",
       "      <td>0.0</td>\n",
       "      <td>0.0</td>\n",
       "      <td>NaN</td>\n",
       "      <td>NaN</td>\n",
       "      <td>NaN</td>\n",
       "      <td>NaN</td>\n",
       "    </tr>\n",
       "    <tr>\n",
       "      <th>3</th>\n",
       "      <td>1076863</td>\n",
       "      <td>1277178</td>\n",
       "      <td>10000</td>\n",
       "      <td>10000</td>\n",
       "      <td>10000.0</td>\n",
       "      <td>36 months</td>\n",
       "      <td>13.49%</td>\n",
       "      <td>339.31</td>\n",
       "      <td>C</td>\n",
       "      <td>C1</td>\n",
       "      <td>...</td>\n",
       "      <td>NaN</td>\n",
       "      <td>NaN</td>\n",
       "      <td>NaN</td>\n",
       "      <td>NaN</td>\n",
       "      <td>0.0</td>\n",
       "      <td>0.0</td>\n",
       "      <td>NaN</td>\n",
       "      <td>NaN</td>\n",
       "      <td>NaN</td>\n",
       "      <td>NaN</td>\n",
       "    </tr>\n",
       "    <tr>\n",
       "      <th>4</th>\n",
       "      <td>1075358</td>\n",
       "      <td>1311748</td>\n",
       "      <td>3000</td>\n",
       "      <td>3000</td>\n",
       "      <td>3000.0</td>\n",
       "      <td>60 months</td>\n",
       "      <td>12.69%</td>\n",
       "      <td>67.79</td>\n",
       "      <td>B</td>\n",
       "      <td>B5</td>\n",
       "      <td>...</td>\n",
       "      <td>NaN</td>\n",
       "      <td>NaN</td>\n",
       "      <td>NaN</td>\n",
       "      <td>NaN</td>\n",
       "      <td>0.0</td>\n",
       "      <td>0.0</td>\n",
       "      <td>NaN</td>\n",
       "      <td>NaN</td>\n",
       "      <td>NaN</td>\n",
       "      <td>NaN</td>\n",
       "    </tr>\n",
       "  </tbody>\n",
       "</table>\n",
       "<p>5 rows × 111 columns</p>\n",
       "</div>"
      ],
      "text/plain": [
       "        id  member_id  loan_amnt  funded_amnt  funded_amnt_inv        term  \\\n",
       "0  1077501    1296599       5000         5000           4975.0   36 months   \n",
       "1  1077430    1314167       2500         2500           2500.0   60 months   \n",
       "2  1077175    1313524       2400         2400           2400.0   36 months   \n",
       "3  1076863    1277178      10000        10000          10000.0   36 months   \n",
       "4  1075358    1311748       3000         3000           3000.0   60 months   \n",
       "\n",
       "  int_rate  installment grade sub_grade  ... num_tl_90g_dpd_24m  \\\n",
       "0   10.65%       162.87     B        B2  ...                NaN   \n",
       "1   15.27%        59.83     C        C4  ...                NaN   \n",
       "2   15.96%        84.33     C        C5  ...                NaN   \n",
       "3   13.49%       339.31     C        C1  ...                NaN   \n",
       "4   12.69%        67.79     B        B5  ...                NaN   \n",
       "\n",
       "  num_tl_op_past_12m pct_tl_nvr_dlq  percent_bc_gt_75 pub_rec_bankruptcies  \\\n",
       "0                NaN            NaN               NaN                  0.0   \n",
       "1                NaN            NaN               NaN                  0.0   \n",
       "2                NaN            NaN               NaN                  0.0   \n",
       "3                NaN            NaN               NaN                  0.0   \n",
       "4                NaN            NaN               NaN                  0.0   \n",
       "\n",
       "  tax_liens tot_hi_cred_lim total_bal_ex_mort total_bc_limit  \\\n",
       "0       0.0             NaN               NaN            NaN   \n",
       "1       0.0             NaN               NaN            NaN   \n",
       "2       0.0             NaN               NaN            NaN   \n",
       "3       0.0             NaN               NaN            NaN   \n",
       "4       0.0             NaN               NaN            NaN   \n",
       "\n",
       "  total_il_high_credit_limit  \n",
       "0                        NaN  \n",
       "1                        NaN  \n",
       "2                        NaN  \n",
       "3                        NaN  \n",
       "4                        NaN  \n",
       "\n",
       "[5 rows x 111 columns]"
      ]
     },
     "execution_count": 3,
     "metadata": {},
     "output_type": "execute_result"
    }
   ],
   "source": [
    "data.head()"
   ]
  },
  {
   "cell_type": "markdown",
   "id": "8917d7aa",
   "metadata": {},
   "source": [
    "# # Data Cleaning"
   ]
  },
  {
   "cell_type": "markdown",
   "id": "d955cfab",
   "metadata": {},
   "source": [
    "--we need to identify the columns with Null values, and need to remove them."
   ]
  },
  {
   "cell_type": "code",
   "execution_count": 4,
   "id": "bfcad449",
   "metadata": {},
   "outputs": [
    {
     "data": {
      "text/plain": [
       "id                                0\n",
       "member_id                         0\n",
       "loan_amnt                         0\n",
       "funded_amnt                       0\n",
       "funded_amnt_inv                   0\n",
       "                              ...  \n",
       "tax_liens                        39\n",
       "tot_hi_cred_lim               39717\n",
       "total_bal_ex_mort             39717\n",
       "total_bc_limit                39717\n",
       "total_il_high_credit_limit    39717\n",
       "Length: 111, dtype: int64"
      ]
     },
     "execution_count": 4,
     "metadata": {},
     "output_type": "execute_result"
    }
   ],
   "source": [
    "data.isnull().sum()"
   ]
  },
  {
   "cell_type": "code",
   "execution_count": 5,
   "id": "f3e62248",
   "metadata": {},
   "outputs": [
    {
     "data": {
      "text/plain": [
       "(39717, 111)"
      ]
     },
     "execution_count": 5,
     "metadata": {},
     "output_type": "execute_result"
    }
   ],
   "source": [
    "data.shape"
   ]
  },
  {
   "cell_type": "markdown",
   "id": "0fe5bc19",
   "metadata": {},
   "source": [
    "we can say that some columns having complete Null values. we need to drop those columns. those are unnecessary"
   ]
  },
  {
   "cell_type": "code",
   "execution_count": 6,
   "id": "d1fab008",
   "metadata": {},
   "outputs": [],
   "source": [
    "data.dropna(axis = 1, how = 'all', inplace=True)"
   ]
  },
  {
   "cell_type": "code",
   "execution_count": 7,
   "id": "ca13b18e",
   "metadata": {},
   "outputs": [
    {
     "data": {
      "text/plain": [
       "(39717, 57)"
      ]
     },
     "execution_count": 7,
     "metadata": {},
     "output_type": "execute_result"
    }
   ],
   "source": [
    "data.shape"
   ]
  },
  {
   "cell_type": "markdown",
   "id": "6d05eb8e",
   "metadata": {},
   "source": [
    "111 columns are now reduced to 53 columns"
   ]
  },
  {
   "cell_type": "code",
   "execution_count": 8,
   "id": "b37e9c23",
   "metadata": {},
   "outputs": [
    {
     "data": {
      "text/plain": [
       "Index(['id', 'member_id', 'loan_amnt', 'funded_amnt', 'funded_amnt_inv',\n",
       "       'term', 'int_rate', 'installment', 'grade', 'sub_grade', 'emp_title',\n",
       "       'emp_length', 'home_ownership', 'annual_inc', 'verification_status',\n",
       "       'issue_d', 'loan_status', 'pymnt_plan', 'url', 'desc', 'purpose',\n",
       "       'title', 'zip_code', 'addr_state', 'dti', 'delinq_2yrs',\n",
       "       'earliest_cr_line', 'inq_last_6mths', 'mths_since_last_delinq',\n",
       "       'mths_since_last_record', 'open_acc', 'pub_rec', 'revol_bal',\n",
       "       'revol_util', 'total_acc', 'initial_list_status', 'out_prncp',\n",
       "       'out_prncp_inv', 'total_pymnt', 'total_pymnt_inv', 'total_rec_prncp',\n",
       "       'total_rec_int', 'total_rec_late_fee', 'recoveries',\n",
       "       'collection_recovery_fee', 'last_pymnt_d', 'last_pymnt_amnt',\n",
       "       'next_pymnt_d', 'last_credit_pull_d', 'collections_12_mths_ex_med',\n",
       "       'policy_code', 'application_type', 'acc_now_delinq',\n",
       "       'chargeoff_within_12_mths', 'delinq_amnt', 'pub_rec_bankruptcies',\n",
       "       'tax_liens'],\n",
       "      dtype='object')"
      ]
     },
     "execution_count": 8,
     "metadata": {},
     "output_type": "execute_result"
    }
   ],
   "source": [
    "data.columns"
   ]
  },
  {
   "cell_type": "code",
   "execution_count": 9,
   "id": "5a44e4dc",
   "metadata": {},
   "outputs": [
    {
     "data": {
      "text/plain": [
       "id                                0\n",
       "member_id                         0\n",
       "loan_amnt                         0\n",
       "funded_amnt                       0\n",
       "funded_amnt_inv                   0\n",
       "term                              0\n",
       "int_rate                          0\n",
       "installment                       0\n",
       "grade                             0\n",
       "sub_grade                         0\n",
       "emp_title                      2459\n",
       "emp_length                     1075\n",
       "home_ownership                    0\n",
       "annual_inc                        0\n",
       "verification_status               0\n",
       "issue_d                           0\n",
       "loan_status                       0\n",
       "pymnt_plan                        0\n",
       "url                               0\n",
       "desc                          12940\n",
       "purpose                           0\n",
       "title                            11\n",
       "zip_code                          0\n",
       "addr_state                        0\n",
       "dti                               0\n",
       "delinq_2yrs                       0\n",
       "earliest_cr_line                  0\n",
       "inq_last_6mths                    0\n",
       "mths_since_last_delinq        25682\n",
       "mths_since_last_record        36931\n",
       "open_acc                          0\n",
       "pub_rec                           0\n",
       "revol_bal                         0\n",
       "revol_util                       50\n",
       "total_acc                         0\n",
       "initial_list_status               0\n",
       "out_prncp                         0\n",
       "out_prncp_inv                     0\n",
       "total_pymnt                       0\n",
       "total_pymnt_inv                   0\n",
       "total_rec_prncp                   0\n",
       "total_rec_int                     0\n",
       "total_rec_late_fee                0\n",
       "recoveries                        0\n",
       "collection_recovery_fee           0\n",
       "last_pymnt_d                     71\n",
       "last_pymnt_amnt                   0\n",
       "next_pymnt_d                  38577\n",
       "last_credit_pull_d                2\n",
       "collections_12_mths_ex_med       56\n",
       "policy_code                       0\n",
       "application_type                  0\n",
       "acc_now_delinq                    0\n",
       "chargeoff_within_12_mths         56\n",
       "delinq_amnt                       0\n",
       "pub_rec_bankruptcies            697\n",
       "tax_liens                        39\n",
       "dtype: int64"
      ]
     },
     "execution_count": 9,
     "metadata": {},
     "output_type": "execute_result"
    }
   ],
   "source": [
    "data.isnull().sum()"
   ]
  },
  {
   "cell_type": "markdown",
   "id": "57aa9de3",
   "metadata": {},
   "source": [
    "\"desc\", \"mths_since_last_delinq\", \"mths_since_last_record\", \"next_pymnt_d\" columns having more number of Null values, those not helpfull for our analysis, so need to remove them."
   ]
  },
  {
   "cell_type": "code",
   "execution_count": 10,
   "id": "1ff83346",
   "metadata": {},
   "outputs": [],
   "source": [
    "columns_drop1= [\"desc\", \"mths_since_last_delinq\", \"mths_since_last_record\", \"next_pymnt_d\",]"
   ]
  },
  {
   "cell_type": "code",
   "execution_count": 11,
   "id": "4b153527",
   "metadata": {},
   "outputs": [],
   "source": [
    "data.drop(labels= columns_drop1, axis=1, inplace=True)"
   ]
  },
  {
   "cell_type": "markdown",
   "id": "8b299898",
   "metadata": {},
   "source": [
    "there are some customer behaviour columns those are the variables not available at the time of loan application, and thus they cannot be used as predictors for credit approval. we do not need to consider them"
   ]
  },
  {
   "cell_type": "code",
   "execution_count": 12,
   "id": "d6c6df66",
   "metadata": {},
   "outputs": [],
   "source": [
    "columns_drop2= [\"delinq_2yrs\", \"earliest_cr_line\",  \"open_acc\", \"pub_rec\", \"revol_bal\", \"revol_util\", \"total_acc\", \"out_prncp\", \"out_prncp_inv\", \"total_pymnt\", \"total_pymnt_inv\", \"total_rec_prncp\", \"total_rec_int\", \"total_rec_late_fee\", \"recoveries\", \"collection_recovery_fee\", \"last_pymnt_d\", \"last_pymnt_amnt\", \"last_credit_pull_d\", \"application_type\" ]"
   ]
  },
  {
   "cell_type": "code",
   "execution_count": 13,
   "id": "43ac2823",
   "metadata": {},
   "outputs": [],
   "source": [
    "data.drop(labels=columns_drop2, axis=1, inplace=True)"
   ]
  },
  {
   "cell_type": "code",
   "execution_count": 14,
   "id": "616b4c93",
   "metadata": {},
   "outputs": [
    {
     "data": {
      "text/html": [
       "<div>\n",
       "<style scoped>\n",
       "    .dataframe tbody tr th:only-of-type {\n",
       "        vertical-align: middle;\n",
       "    }\n",
       "\n",
       "    .dataframe tbody tr th {\n",
       "        vertical-align: top;\n",
       "    }\n",
       "\n",
       "    .dataframe thead th {\n",
       "        text-align: right;\n",
       "    }\n",
       "</style>\n",
       "<table border=\"1\" class=\"dataframe\">\n",
       "  <thead>\n",
       "    <tr style=\"text-align: right;\">\n",
       "      <th></th>\n",
       "      <th>id</th>\n",
       "      <th>member_id</th>\n",
       "      <th>loan_amnt</th>\n",
       "      <th>funded_amnt</th>\n",
       "      <th>funded_amnt_inv</th>\n",
       "      <th>term</th>\n",
       "      <th>int_rate</th>\n",
       "      <th>installment</th>\n",
       "      <th>grade</th>\n",
       "      <th>sub_grade</th>\n",
       "      <th>...</th>\n",
       "      <th>dti</th>\n",
       "      <th>inq_last_6mths</th>\n",
       "      <th>initial_list_status</th>\n",
       "      <th>collections_12_mths_ex_med</th>\n",
       "      <th>policy_code</th>\n",
       "      <th>acc_now_delinq</th>\n",
       "      <th>chargeoff_within_12_mths</th>\n",
       "      <th>delinq_amnt</th>\n",
       "      <th>pub_rec_bankruptcies</th>\n",
       "      <th>tax_liens</th>\n",
       "    </tr>\n",
       "  </thead>\n",
       "  <tbody>\n",
       "    <tr>\n",
       "      <th>0</th>\n",
       "      <td>1077501</td>\n",
       "      <td>1296599</td>\n",
       "      <td>5000</td>\n",
       "      <td>5000</td>\n",
       "      <td>4975.0</td>\n",
       "      <td>36 months</td>\n",
       "      <td>10.65%</td>\n",
       "      <td>162.87</td>\n",
       "      <td>B</td>\n",
       "      <td>B2</td>\n",
       "      <td>...</td>\n",
       "      <td>27.65</td>\n",
       "      <td>1</td>\n",
       "      <td>f</td>\n",
       "      <td>0.0</td>\n",
       "      <td>1</td>\n",
       "      <td>0</td>\n",
       "      <td>0.0</td>\n",
       "      <td>0</td>\n",
       "      <td>0.0</td>\n",
       "      <td>0.0</td>\n",
       "    </tr>\n",
       "    <tr>\n",
       "      <th>1</th>\n",
       "      <td>1077430</td>\n",
       "      <td>1314167</td>\n",
       "      <td>2500</td>\n",
       "      <td>2500</td>\n",
       "      <td>2500.0</td>\n",
       "      <td>60 months</td>\n",
       "      <td>15.27%</td>\n",
       "      <td>59.83</td>\n",
       "      <td>C</td>\n",
       "      <td>C4</td>\n",
       "      <td>...</td>\n",
       "      <td>1.00</td>\n",
       "      <td>5</td>\n",
       "      <td>f</td>\n",
       "      <td>0.0</td>\n",
       "      <td>1</td>\n",
       "      <td>0</td>\n",
       "      <td>0.0</td>\n",
       "      <td>0</td>\n",
       "      <td>0.0</td>\n",
       "      <td>0.0</td>\n",
       "    </tr>\n",
       "    <tr>\n",
       "      <th>2</th>\n",
       "      <td>1077175</td>\n",
       "      <td>1313524</td>\n",
       "      <td>2400</td>\n",
       "      <td>2400</td>\n",
       "      <td>2400.0</td>\n",
       "      <td>36 months</td>\n",
       "      <td>15.96%</td>\n",
       "      <td>84.33</td>\n",
       "      <td>C</td>\n",
       "      <td>C5</td>\n",
       "      <td>...</td>\n",
       "      <td>8.72</td>\n",
       "      <td>2</td>\n",
       "      <td>f</td>\n",
       "      <td>0.0</td>\n",
       "      <td>1</td>\n",
       "      <td>0</td>\n",
       "      <td>0.0</td>\n",
       "      <td>0</td>\n",
       "      <td>0.0</td>\n",
       "      <td>0.0</td>\n",
       "    </tr>\n",
       "    <tr>\n",
       "      <th>3</th>\n",
       "      <td>1076863</td>\n",
       "      <td>1277178</td>\n",
       "      <td>10000</td>\n",
       "      <td>10000</td>\n",
       "      <td>10000.0</td>\n",
       "      <td>36 months</td>\n",
       "      <td>13.49%</td>\n",
       "      <td>339.31</td>\n",
       "      <td>C</td>\n",
       "      <td>C1</td>\n",
       "      <td>...</td>\n",
       "      <td>20.00</td>\n",
       "      <td>1</td>\n",
       "      <td>f</td>\n",
       "      <td>0.0</td>\n",
       "      <td>1</td>\n",
       "      <td>0</td>\n",
       "      <td>0.0</td>\n",
       "      <td>0</td>\n",
       "      <td>0.0</td>\n",
       "      <td>0.0</td>\n",
       "    </tr>\n",
       "    <tr>\n",
       "      <th>4</th>\n",
       "      <td>1075358</td>\n",
       "      <td>1311748</td>\n",
       "      <td>3000</td>\n",
       "      <td>3000</td>\n",
       "      <td>3000.0</td>\n",
       "      <td>60 months</td>\n",
       "      <td>12.69%</td>\n",
       "      <td>67.79</td>\n",
       "      <td>B</td>\n",
       "      <td>B5</td>\n",
       "      <td>...</td>\n",
       "      <td>17.94</td>\n",
       "      <td>0</td>\n",
       "      <td>f</td>\n",
       "      <td>0.0</td>\n",
       "      <td>1</td>\n",
       "      <td>0</td>\n",
       "      <td>0.0</td>\n",
       "      <td>0</td>\n",
       "      <td>0.0</td>\n",
       "      <td>0.0</td>\n",
       "    </tr>\n",
       "  </tbody>\n",
       "</table>\n",
       "<p>5 rows × 33 columns</p>\n",
       "</div>"
      ],
      "text/plain": [
       "        id  member_id  loan_amnt  funded_amnt  funded_amnt_inv        term  \\\n",
       "0  1077501    1296599       5000         5000           4975.0   36 months   \n",
       "1  1077430    1314167       2500         2500           2500.0   60 months   \n",
       "2  1077175    1313524       2400         2400           2400.0   36 months   \n",
       "3  1076863    1277178      10000        10000          10000.0   36 months   \n",
       "4  1075358    1311748       3000         3000           3000.0   60 months   \n",
       "\n",
       "  int_rate  installment grade sub_grade  ...    dti inq_last_6mths  \\\n",
       "0   10.65%       162.87     B        B2  ...  27.65              1   \n",
       "1   15.27%        59.83     C        C4  ...   1.00              5   \n",
       "2   15.96%        84.33     C        C5  ...   8.72              2   \n",
       "3   13.49%       339.31     C        C1  ...  20.00              1   \n",
       "4   12.69%        67.79     B        B5  ...  17.94              0   \n",
       "\n",
       "  initial_list_status  collections_12_mths_ex_med policy_code acc_now_delinq  \\\n",
       "0                   f                         0.0           1              0   \n",
       "1                   f                         0.0           1              0   \n",
       "2                   f                         0.0           1              0   \n",
       "3                   f                         0.0           1              0   \n",
       "4                   f                         0.0           1              0   \n",
       "\n",
       "  chargeoff_within_12_mths delinq_amnt pub_rec_bankruptcies tax_liens  \n",
       "0                      0.0           0                  0.0       0.0  \n",
       "1                      0.0           0                  0.0       0.0  \n",
       "2                      0.0           0                  0.0       0.0  \n",
       "3                      0.0           0                  0.0       0.0  \n",
       "4                      0.0           0                  0.0       0.0  \n",
       "\n",
       "[5 rows x 33 columns]"
      ]
     },
     "execution_count": 14,
     "metadata": {},
     "output_type": "execute_result"
    }
   ],
   "source": [
    "data.head()"
   ]
  },
  {
   "cell_type": "markdown",
   "id": "6ab00b60",
   "metadata": {},
   "source": [
    "There are some mpre columns are not needed for analysis, need to drop them also"
   ]
  },
  {
   "cell_type": "code",
   "execution_count": 15,
   "id": "bd9d8835",
   "metadata": {},
   "outputs": [],
   "source": [
    "columns_drop3=[\"id\", \"member_id\", \"emp_title\", \"url\", \"title\", \"zip_code\", \"addr_state\"]"
   ]
  },
  {
   "cell_type": "code",
   "execution_count": 16,
   "id": "ce6ed79c",
   "metadata": {},
   "outputs": [],
   "source": [
    "data.drop(labels=columns_drop3, axis=1, inplace=True)"
   ]
  },
  {
   "cell_type": "code",
   "execution_count": 17,
   "id": "124a832a",
   "metadata": {},
   "outputs": [
    {
     "data": {
      "text/plain": [
       "(39717, 26)"
      ]
     },
     "execution_count": 17,
     "metadata": {},
     "output_type": "execute_result"
    }
   ],
   "source": [
    "data.shape"
   ]
  },
  {
   "cell_type": "markdown",
   "id": "034ae6a9",
   "metadata": {},
   "source": [
    "# we need to find the categorical variables, continuous variables"
   ]
  },
  {
   "cell_type": "code",
   "execution_count": 18,
   "id": "151a2652",
   "metadata": {},
   "outputs": [
    {
     "data": {
      "text/plain": [
       "loan_amnt                       885\n",
       "funded_amnt                    1041\n",
       "funded_amnt_inv                8205\n",
       "term                              2\n",
       "int_rate                        371\n",
       "installment                   15383\n",
       "grade                             7\n",
       "sub_grade                        35\n",
       "emp_length                       11\n",
       "home_ownership                    5\n",
       "annual_inc                     5318\n",
       "verification_status               3\n",
       "issue_d                          55\n",
       "loan_status                       3\n",
       "pymnt_plan                        1\n",
       "purpose                          14\n",
       "dti                            2868\n",
       "inq_last_6mths                    9\n",
       "initial_list_status               1\n",
       "collections_12_mths_ex_med        1\n",
       "policy_code                       1\n",
       "acc_now_delinq                    1\n",
       "chargeoff_within_12_mths          1\n",
       "delinq_amnt                       1\n",
       "pub_rec_bankruptcies              3\n",
       "tax_liens                         1\n",
       "dtype: int64"
      ]
     },
     "execution_count": 18,
     "metadata": {},
     "output_type": "execute_result"
    }
   ],
   "source": [
    "data.nunique()"
   ]
  },
  {
   "cell_type": "code",
   "execution_count": 19,
   "id": "5f2f9211",
   "metadata": {},
   "outputs": [],
   "source": [
    "cnt_columns= [\"loan_amnt\", \"funded_amnt\", \"funded_amnt_inv\", \"int_rate\", \"installment\", \"annual_inc\", \"dti\"]\n",
    "cat_columns= [\"term\", \"grade\", \"sub_grade\", \"emp_length\", \"home_ownership\", \"verification_status\", \"loan_status\", \"pymnt_plan\", \"purpose\", \"pub_rec_bankruptcies\"]"
   ]
  },
  {
   "cell_type": "code",
   "execution_count": 20,
   "id": "de8bd2d8",
   "metadata": {},
   "outputs": [
    {
     "name": "stdout",
     "output_type": "stream",
     "text": [
      "['loan_amnt', 'funded_amnt', 'funded_amnt_inv', 'int_rate', 'installment', 'annual_inc', 'dti']\n",
      "['term', 'grade', 'sub_grade', 'emp_length', 'home_ownership', 'verification_status', 'loan_status', 'pymnt_plan', 'purpose', 'pub_rec_bankruptcies']\n"
     ]
    }
   ],
   "source": [
    "print(cnt_columns)\n",
    "print(cat_columns)"
   ]
  },
  {
   "cell_type": "markdown",
   "id": "b37c8386",
   "metadata": {},
   "source": [
    "### The goal of the analysis is to see who is likely to default and this can only be said in case of either fully paid or charged off loans.\n",
    "- We cannot make anything up for the current loans. \n",
    "- To exclude that data , removing the records with current loan status"
   ]
  },
  {
   "cell_type": "code",
   "execution_count": 21,
   "id": "fe0a0340",
   "metadata": {},
   "outputs": [
    {
     "data": {
      "text/plain": [
       "2"
      ]
     },
     "execution_count": 21,
     "metadata": {},
     "output_type": "execute_result"
    }
   ],
   "source": [
    "data=data[data.loan_status!='Current']\n",
    "data.loan_status.nunique()"
   ]
  },
  {
   "cell_type": "code",
   "execution_count": 22,
   "id": "3eaa3626",
   "metadata": {},
   "outputs": [
    {
     "data": {
      "text/plain": [
       "(38577, 26)"
      ]
     },
     "execution_count": 22,
     "metadata": {},
     "output_type": "execute_result"
    }
   ],
   "source": [
    "data.shape"
   ]
  },
  {
   "cell_type": "code",
   "execution_count": 23,
   "id": "8ed1a655",
   "metadata": {},
   "outputs": [
    {
     "name": "stdout",
     "output_type": "stream",
     "text": [
      "<class 'pandas.core.frame.DataFrame'>\n",
      "Int64Index: 38577 entries, 0 to 39716\n",
      "Data columns (total 26 columns):\n",
      " #   Column                      Non-Null Count  Dtype  \n",
      "---  ------                      --------------  -----  \n",
      " 0   loan_amnt                   38577 non-null  int64  \n",
      " 1   funded_amnt                 38577 non-null  int64  \n",
      " 2   funded_amnt_inv             38577 non-null  float64\n",
      " 3   term                        38577 non-null  object \n",
      " 4   int_rate                    38577 non-null  object \n",
      " 5   installment                 38577 non-null  float64\n",
      " 6   grade                       38577 non-null  object \n",
      " 7   sub_grade                   38577 non-null  object \n",
      " 8   emp_length                  37544 non-null  object \n",
      " 9   home_ownership              38577 non-null  object \n",
      " 10  annual_inc                  38577 non-null  float64\n",
      " 11  verification_status         38577 non-null  object \n",
      " 12  issue_d                     38577 non-null  object \n",
      " 13  loan_status                 38577 non-null  object \n",
      " 14  pymnt_plan                  38577 non-null  object \n",
      " 15  purpose                     38577 non-null  object \n",
      " 16  dti                         38577 non-null  float64\n",
      " 17  inq_last_6mths              38577 non-null  int64  \n",
      " 18  initial_list_status         38577 non-null  object \n",
      " 19  collections_12_mths_ex_med  38521 non-null  float64\n",
      " 20  policy_code                 38577 non-null  int64  \n",
      " 21  acc_now_delinq              38577 non-null  int64  \n",
      " 22  chargeoff_within_12_mths    38521 non-null  float64\n",
      " 23  delinq_amnt                 38577 non-null  int64  \n",
      " 24  pub_rec_bankruptcies        37880 non-null  float64\n",
      " 25  tax_liens                   38538 non-null  float64\n",
      "dtypes: float64(8), int64(6), object(12)\n",
      "memory usage: 7.9+ MB\n"
     ]
    }
   ],
   "source": [
    "data.info()"
   ]
  },
  {
   "cell_type": "markdown",
   "id": "038cffef",
   "metadata": {},
   "source": [
    "# Standardising the data"
   ]
  },
  {
   "cell_type": "code",
   "execution_count": 24,
   "id": "ce4babbb",
   "metadata": {},
   "outputs": [
    {
     "data": {
      "text/plain": [
       "0    10.65%\n",
       "1    15.27%\n",
       "2    15.96%\n",
       "3    13.49%\n",
       "5     7.90%\n",
       "Name: int_rate, dtype: object"
      ]
     },
     "execution_count": 24,
     "metadata": {},
     "output_type": "execute_result"
    }
   ],
   "source": [
    "data['int_rate'].head()"
   ]
  },
  {
   "cell_type": "markdown",
   "id": "c8176671",
   "metadata": {},
   "source": [
    "we need to remove the '%' symbol from 'int_rate' column and need to convert that column into float"
   ]
  },
  {
   "cell_type": "markdown",
   "id": "0c857002",
   "metadata": {},
   "source": [
    "# Data Manipulation"
   ]
  },
  {
   "cell_type": "code",
   "execution_count": 25,
   "id": "8bec3068",
   "metadata": {},
   "outputs": [],
   "source": [
    "data['int_rate']=pd.to_numeric( data['int_rate'].str.rstrip('%') )"
   ]
  },
  {
   "cell_type": "code",
   "execution_count": 26,
   "id": "03fff3ad",
   "metadata": {},
   "outputs": [
    {
     "data": {
      "text/plain": [
       "<bound method NDFrame.describe of 0        10.65\n",
       "1        15.27\n",
       "2        15.96\n",
       "3        13.49\n",
       "5         7.90\n",
       "         ...  \n",
       "39712     8.07\n",
       "39713    10.28\n",
       "39714     8.07\n",
       "39715     7.43\n",
       "39716    13.75\n",
       "Name: int_rate, Length: 38577, dtype: float64>"
      ]
     },
     "execution_count": 26,
     "metadata": {},
     "output_type": "execute_result"
    }
   ],
   "source": [
    "data['int_rate'].describe"
   ]
  },
  {
   "cell_type": "code",
   "execution_count": 27,
   "id": "2835f506",
   "metadata": {},
   "outputs": [
    {
     "data": {
      "text/plain": [
       "0    10+ years\n",
       "1     < 1 year\n",
       "2    10+ years\n",
       "3    10+ years\n",
       "5      3 years\n",
       "Name: emp_length, dtype: object"
      ]
     },
     "execution_count": 27,
     "metadata": {},
     "output_type": "execute_result"
    }
   ],
   "source": [
    "data['emp_length'].head(5)"
   ]
  },
  {
   "cell_type": "code",
   "execution_count": null,
   "id": "dce8509c",
   "metadata": {},
   "outputs": [],
   "source": []
  },
  {
   "cell_type": "markdown",
   "id": "10e23068",
   "metadata": {},
   "source": [
    "# Removing the outliers"
   ]
  },
  {
   "cell_type": "code",
   "execution_count": 28,
   "id": "5d7697b3",
   "metadata": {},
   "outputs": [
    {
     "data": {
      "text/plain": [
       "loan_amnt                       870\n",
       "funded_amnt                    1019\n",
       "funded_amnt_inv                8050\n",
       "term                              2\n",
       "int_rate                        370\n",
       "installment                   15022\n",
       "grade                             7\n",
       "sub_grade                        35\n",
       "emp_length                       11\n",
       "home_ownership                    5\n",
       "annual_inc                     5215\n",
       "verification_status               3\n",
       "issue_d                          55\n",
       "loan_status                       2\n",
       "pymnt_plan                        1\n",
       "purpose                          14\n",
       "dti                            2853\n",
       "inq_last_6mths                    9\n",
       "initial_list_status               1\n",
       "collections_12_mths_ex_med        1\n",
       "policy_code                       1\n",
       "acc_now_delinq                    1\n",
       "chargeoff_within_12_mths          1\n",
       "delinq_amnt                       1\n",
       "pub_rec_bankruptcies              3\n",
       "tax_liens                         1\n",
       "dtype: int64"
      ]
     },
     "execution_count": 28,
     "metadata": {},
     "output_type": "execute_result"
    }
   ],
   "source": [
    "data.nunique()"
   ]
  },
  {
   "cell_type": "code",
   "execution_count": 29,
   "id": "5bcbbfcc",
   "metadata": {},
   "outputs": [],
   "source": [
    "cnt_columns= [\"loan_amnt\", \"funded_amnt\", \"funded_amnt_inv\", \"int_rate\", \"installment\", \"annual_inc\", \"dti\"]\n",
    "cat_columns= [\"term\", \"grade\", \"sub_grade\", \"emp_length\", \"home_ownership\", \"verification_status\", \"loan_status\", \"pymnt_plan\", \"purpose\", \"pub_rec_bankruptcies\"]"
   ]
  },
  {
   "cell_type": "code",
   "execution_count": 30,
   "id": "51d98db6",
   "metadata": {},
   "outputs": [
    {
     "data": {
      "text/plain": [
       "<AxesSubplot:xlabel='loan_amnt'>"
      ]
     },
     "execution_count": 30,
     "metadata": {},
     "output_type": "execute_result"
    },
    {
     "data": {
      "image/png": "[encoded data removed]",
      "text/plain": [
       "<Figure size 432x288 with 1 Axes>"
      ]
     },
     "metadata": {
      "needs_background": "light"
     },
     "output_type": "display_data"
    }
   ],
   "source": [
    "sns.boxplot(data['loan_amnt'])"
   ]
  },
  {
   "cell_type": "code",
   "execution_count": 31,
   "id": "ff87445e",
   "metadata": {},
   "outputs": [
    {
     "data": {
      "text/plain": [
       "count    38577.000000\n",
       "mean     11047.025430\n",
       "std       7348.441646\n",
       "min        500.000000\n",
       "25%       5300.000000\n",
       "50%       9600.000000\n",
       "75%      15000.000000\n",
       "max      35000.000000\n",
       "Name: loan_amnt, dtype: float64"
      ]
     },
     "execution_count": 31,
     "metadata": {},
     "output_type": "execute_result"
    }
   ],
   "source": [
    "data['loan_amnt'].describe()"
   ]
  },
  {
   "cell_type": "code",
   "execution_count": 32,
   "id": "d949e04b",
   "metadata": {},
   "outputs": [
    {
     "data": {
      "text/plain": [
       "0.50     9600.0\n",
       "0.75    15000.0\n",
       "0.90    21600.0\n",
       "0.95    25000.0\n",
       "0.97    28000.0\n",
       "0.98    30000.0\n",
       "0.99    35000.0\n",
       "Name: loan_amnt, dtype: float64"
      ]
     },
     "execution_count": 32,
     "metadata": {},
     "output_type": "execute_result"
    }
   ],
   "source": [
    "quantile_info = data.loan_amnt.quantile([0.5, 0.75,0.90, 0.95, 0.97,0.98, 0.99])\n",
    "quantile_info"
   ]
  },
  {
   "cell_type": "code",
   "execution_count": 33,
   "id": "fa184cd4",
   "metadata": {},
   "outputs": [],
   "source": [
    "per_95_loan_amnt = data['loan_amnt'].quantile(0.95)\n",
    "data = data[data.loan_amnt <= per_95_loan_amnt]"
   ]
  },
  {
   "cell_type": "code",
   "execution_count": 34,
   "id": "0a0afcc3",
   "metadata": {},
   "outputs": [
    {
     "data": {
      "text/plain": [
       "<AxesSubplot:xlabel='loan_amnt'>"
      ]
     },
     "execution_count": 34,
     "metadata": {},
     "output_type": "execute_result"
    },
    {
     "data": {
      "image/png": "[encoded data removed]",
      "text/plain": [
       "<Figure size 432x288 with 1 Axes>"
      ]
     },
     "metadata": {
      "needs_background": "light"
     },
     "output_type": "display_data"
    }
   ],
   "source": [
    "sns.boxplot(data['loan_amnt'])"
   ]
  },
  {
   "cell_type": "code",
   "execution_count": null,
   "id": "d8668d99",
   "metadata": {},
   "outputs": [],
   "source": []
  },
  {
   "cell_type": "code",
   "execution_count": 35,
   "id": "744403a2",
   "metadata": {},
   "outputs": [
    {
     "data": {
      "text/plain": [
       "<AxesSubplot:xlabel='funded_amnt'>"
      ]
     },
     "execution_count": 35,
     "metadata": {},
     "output_type": "execute_result"
    },
    {
     "data": {
      "image/png": "[encoded data removed]",
      "text/plain": [
       "<Figure size 432x288 with 1 Axes>"
      ]
     },
     "metadata": {
      "needs_background": "light"
     },
     "output_type": "display_data"
    }
   ],
   "source": [
    "sns.boxplot(data['funded_amnt'])"
   ]
  },
  {
   "cell_type": "code",
   "execution_count": null,
   "id": "4c41ff74",
   "metadata": {},
   "outputs": [],
   "source": []
  },
  {
   "cell_type": "code",
   "execution_count": 36,
   "id": "f8f93f7b",
   "metadata": {},
   "outputs": [
    {
     "data": {
      "text/plain": [
       "<AxesSubplot:xlabel='funded_amnt_inv'>"
      ]
     },
     "execution_count": 36,
     "metadata": {},
     "output_type": "execute_result"
    },
    {
     "data": {
      "image/png": "[encoded data removed]",
      "text/plain": [
       "<Figure size 432x288 with 1 Axes>"
      ]
     },
     "metadata": {
      "needs_background": "light"
     },
     "output_type": "display_data"
    }
   ],
   "source": [
    "sns.boxplot(data['funded_amnt_inv'])"
   ]
  },
  {
   "cell_type": "code",
   "execution_count": null,
   "id": "17cf4f52",
   "metadata": {},
   "outputs": [],
   "source": []
  },
  {
   "cell_type": "code",
   "execution_count": 37,
   "id": "c8a1d3c9",
   "metadata": {},
   "outputs": [
    {
     "data": {
      "text/plain": [
       "<AxesSubplot:xlabel='int_rate'>"
      ]
     },
     "execution_count": 37,
     "metadata": {},
     "output_type": "execute_result"
    },
    {
     "data": {
      "image/png": "[encoded data removed]",
      "text/plain": [
       "<Figure size 432x288 with 1 Axes>"
      ]
     },
     "metadata": {
      "needs_background": "light"
     },
     "output_type": "display_data"
    }
   ],
   "source": [
    "sns.boxplot(data['int_rate'])"
   ]
  },
  {
   "cell_type": "code",
   "execution_count": 38,
   "id": "6af96a27",
   "metadata": {},
   "outputs": [
    {
     "data": {
      "text/plain": [
       "count    37142.000000\n",
       "mean        11.792128\n",
       "std          3.601086\n",
       "min          5.420000\n",
       "25%          8.900000\n",
       "50%         11.710000\n",
       "75%         14.260000\n",
       "max         24.400000\n",
       "Name: int_rate, dtype: float64"
      ]
     },
     "execution_count": 38,
     "metadata": {},
     "output_type": "execute_result"
    }
   ],
   "source": [
    "data['int_rate'].describe()"
   ]
  },
  {
   "cell_type": "code",
   "execution_count": 39,
   "id": "fc73a20d",
   "metadata": {},
   "outputs": [
    {
     "data": {
      "text/plain": [
       "0.50    11.71\n",
       "0.75    14.26\n",
       "0.90    16.49\n",
       "0.95    17.99\n",
       "0.97    18.79\n",
       "0.98    19.42\n",
       "0.99    20.62\n",
       "Name: int_rate, dtype: float64"
      ]
     },
     "execution_count": 39,
     "metadata": {},
     "output_type": "execute_result"
    }
   ],
   "source": [
    "quantile_info = data.int_rate.quantile([0.5, 0.75,0.90, 0.95, 0.97,0.98, 0.99])\n",
    "quantile_info"
   ]
  },
  {
   "cell_type": "code",
   "execution_count": 40,
   "id": "f98ee690",
   "metadata": {},
   "outputs": [],
   "source": [
    "per_99_int_rate = data['int_rate'].quantile(0.99)\n",
    "data = data[data.int_rate <= per_99_int_rate]"
   ]
  },
  {
   "cell_type": "code",
   "execution_count": 41,
   "id": "aca20669",
   "metadata": {},
   "outputs": [
    {
     "data": {
      "text/plain": [
       "<AxesSubplot:xlabel='int_rate'>"
      ]
     },
     "execution_count": 41,
     "metadata": {},
     "output_type": "execute_result"
    },
    {
     "data": {
      "image/png": "[encoded data removed]",
      "text/plain": [
       "<Figure size 432x288 with 1 Axes>"
      ]
     },
     "metadata": {
      "needs_background": "light"
     },
     "output_type": "display_data"
    }
   ],
   "source": [
    "sns.boxplot(data['int_rate'])"
   ]
  },
  {
   "cell_type": "code",
   "execution_count": 42,
   "id": "41e98ad5",
   "metadata": {},
   "outputs": [
    {
     "data": {
      "text/plain": [
       "<AxesSubplot:xlabel='dti'>"
      ]
     },
     "execution_count": 42,
     "metadata": {},
     "output_type": "execute_result"
    },
    {
     "data": {
      "image/png": "[encoded data removed]",
      "text/plain": [
       "<Figure size 432x288 with 1 Axes>"
      ]
     },
     "metadata": {
      "needs_background": "light"
     },
     "output_type": "display_data"
    }
   ],
   "source": [
    "sns.boxplot(data['dti'])"
   ]
  },
  {
   "cell_type": "code",
   "execution_count": 43,
   "id": "b562f63b",
   "metadata": {},
   "outputs": [
    {
     "data": {
      "text/plain": [
       "<AxesSubplot:xlabel='annual_inc'>"
      ]
     },
     "execution_count": 43,
     "metadata": {},
     "output_type": "execute_result"
    },
    {
     "data": {
      "image/png": "[encoded data removed]",
      "text/plain": [
       "<Figure size 432x288 with 1 Axes>"
      ]
     },
     "metadata": {
      "needs_background": "light"
     },
     "output_type": "display_data"
    }
   ],
   "source": [
    "sns.boxplot(data['annual_inc'])"
   ]
  },
  {
   "cell_type": "code",
   "execution_count": 44,
   "id": "5199a1c0",
   "metadata": {},
   "outputs": [
    {
     "data": {
      "text/plain": [
       "0.50     57000.00\n",
       "0.75     80000.00\n",
       "0.90    110000.00\n",
       "0.95    135000.00\n",
       "0.97    156000.00\n",
       "0.98    178560.24\n",
       "0.99    214248.00\n",
       "Name: annual_inc, dtype: float64"
      ]
     },
     "execution_count": 44,
     "metadata": {},
     "output_type": "execute_result"
    }
   ],
   "source": [
    "quantile_info = data.annual_inc.quantile([0.5, 0.75,0.90, 0.95, 0.97,0.98, 0.99])\n",
    "quantile_info"
   ]
  },
  {
   "cell_type": "code",
   "execution_count": 45,
   "id": "8cfcc4c4",
   "metadata": {},
   "outputs": [],
   "source": [
    "per_95_annual_inc = data['annual_inc'].quantile(0.95)\n",
    "data = data[data.annual_inc <= per_95_annual_inc]"
   ]
  },
  {
   "cell_type": "code",
   "execution_count": 46,
   "id": "49b78c9b",
   "metadata": {},
   "outputs": [
    {
     "data": {
      "text/plain": [
       "<AxesSubplot:xlabel='annual_inc'>"
      ]
     },
     "execution_count": 46,
     "metadata": {},
     "output_type": "execute_result"
    },
    {
     "data": {
      "image/png": "[encoded data removed]",
      "text/plain": [
       "<Figure size 432x288 with 1 Axes>"
      ]
     },
     "metadata": {
      "needs_background": "light"
     },
     "output_type": "display_data"
    }
   ],
   "source": [
    "sns.boxplot(data['annual_inc'])"
   ]
  },
  {
   "cell_type": "code",
   "execution_count": 47,
   "id": "c2542e48",
   "metadata": {},
   "outputs": [
    {
     "data": {
      "text/html": [
       "<div>\n",
       "<style scoped>\n",
       "    .dataframe tbody tr th:only-of-type {\n",
       "        vertical-align: middle;\n",
       "    }\n",
       "\n",
       "    .dataframe tbody tr th {\n",
       "        vertical-align: top;\n",
       "    }\n",
       "\n",
       "    .dataframe thead th {\n",
       "        text-align: right;\n",
       "    }\n",
       "</style>\n",
       "<table border=\"1\" class=\"dataframe\">\n",
       "  <thead>\n",
       "    <tr style=\"text-align: right;\">\n",
       "      <th></th>\n",
       "      <th>loan_amnt</th>\n",
       "      <th>funded_amnt</th>\n",
       "      <th>funded_amnt_inv</th>\n",
       "      <th>int_rate</th>\n",
       "      <th>installment</th>\n",
       "      <th>annual_inc</th>\n",
       "      <th>dti</th>\n",
       "      <th>inq_last_6mths</th>\n",
       "      <th>collections_12_mths_ex_med</th>\n",
       "      <th>policy_code</th>\n",
       "      <th>acc_now_delinq</th>\n",
       "      <th>chargeoff_within_12_mths</th>\n",
       "      <th>delinq_amnt</th>\n",
       "      <th>pub_rec_bankruptcies</th>\n",
       "      <th>tax_liens</th>\n",
       "    </tr>\n",
       "  </thead>\n",
       "  <tbody>\n",
       "    <tr>\n",
       "      <th>count</th>\n",
       "      <td>34975.000000</td>\n",
       "      <td>34975.000000</td>\n",
       "      <td>34975.000000</td>\n",
       "      <td>34975.000000</td>\n",
       "      <td>34975.000000</td>\n",
       "      <td>34975.000000</td>\n",
       "      <td>34975.000000</td>\n",
       "      <td>34975.000000</td>\n",
       "      <td>34930.0</td>\n",
       "      <td>34975.0</td>\n",
       "      <td>34975.0</td>\n",
       "      <td>34930.0</td>\n",
       "      <td>34975.0</td>\n",
       "      <td>34319.000000</td>\n",
       "      <td>34945.0</td>\n",
       "    </tr>\n",
       "    <tr>\n",
       "      <th>mean</th>\n",
       "      <td>9943.981415</td>\n",
       "      <td>9738.709793</td>\n",
       "      <td>9210.152681</td>\n",
       "      <td>11.681276</td>\n",
       "      <td>294.019110</td>\n",
       "      <td>59308.187947</td>\n",
       "      <td>13.411016</td>\n",
       "      <td>0.861301</td>\n",
       "      <td>0.0</td>\n",
       "      <td>1.0</td>\n",
       "      <td>0.0</td>\n",
       "      <td>0.0</td>\n",
       "      <td>0.0</td>\n",
       "      <td>0.045252</td>\n",
       "      <td>0.0</td>\n",
       "    </tr>\n",
       "    <tr>\n",
       "      <th>std</th>\n",
       "      <td>6027.973427</td>\n",
       "      <td>5834.893632</td>\n",
       "      <td>5774.085098</td>\n",
       "      <td>3.482637</td>\n",
       "      <td>177.169737</td>\n",
       "      <td>26631.932133</td>\n",
       "      <td>6.667068</td>\n",
       "      <td>1.061420</td>\n",
       "      <td>0.0</td>\n",
       "      <td>0.0</td>\n",
       "      <td>0.0</td>\n",
       "      <td>0.0</td>\n",
       "      <td>0.0</td>\n",
       "      <td>0.208559</td>\n",
       "      <td>0.0</td>\n",
       "    </tr>\n",
       "    <tr>\n",
       "      <th>min</th>\n",
       "      <td>500.000000</td>\n",
       "      <td>500.000000</td>\n",
       "      <td>0.000000</td>\n",
       "      <td>5.420000</td>\n",
       "      <td>15.690000</td>\n",
       "      <td>4000.000000</td>\n",
       "      <td>0.000000</td>\n",
       "      <td>0.000000</td>\n",
       "      <td>0.0</td>\n",
       "      <td>1.0</td>\n",
       "      <td>0.0</td>\n",
       "      <td>0.0</td>\n",
       "      <td>0.0</td>\n",
       "      <td>0.000000</td>\n",
       "      <td>0.0</td>\n",
       "    </tr>\n",
       "    <tr>\n",
       "      <th>25%</th>\n",
       "      <td>5000.000000</td>\n",
       "      <td>5000.000000</td>\n",
       "      <td>4900.000000</td>\n",
       "      <td>8.900000</td>\n",
       "      <td>160.400000</td>\n",
       "      <td>39996.000000</td>\n",
       "      <td>8.310000</td>\n",
       "      <td>0.000000</td>\n",
       "      <td>0.0</td>\n",
       "      <td>1.0</td>\n",
       "      <td>0.0</td>\n",
       "      <td>0.0</td>\n",
       "      <td>0.0</td>\n",
       "      <td>0.000000</td>\n",
       "      <td>0.0</td>\n",
       "    </tr>\n",
       "    <tr>\n",
       "      <th>50%</th>\n",
       "      <td>9000.000000</td>\n",
       "      <td>8500.000000</td>\n",
       "      <td>8000.000000</td>\n",
       "      <td>11.580000</td>\n",
       "      <td>260.850000</td>\n",
       "      <td>55000.000000</td>\n",
       "      <td>13.520000</td>\n",
       "      <td>1.000000</td>\n",
       "      <td>0.0</td>\n",
       "      <td>1.0</td>\n",
       "      <td>0.0</td>\n",
       "      <td>0.0</td>\n",
       "      <td>0.0</td>\n",
       "      <td>0.000000</td>\n",
       "      <td>0.0</td>\n",
       "    </tr>\n",
       "    <tr>\n",
       "      <th>75%</th>\n",
       "      <td>14000.000000</td>\n",
       "      <td>13200.000000</td>\n",
       "      <td>12475.000000</td>\n",
       "      <td>14.120000</td>\n",
       "      <td>390.595000</td>\n",
       "      <td>75000.000000</td>\n",
       "      <td>18.680000</td>\n",
       "      <td>1.000000</td>\n",
       "      <td>0.0</td>\n",
       "      <td>1.0</td>\n",
       "      <td>0.0</td>\n",
       "      <td>0.0</td>\n",
       "      <td>0.0</td>\n",
       "      <td>0.000000</td>\n",
       "      <td>0.0</td>\n",
       "    </tr>\n",
       "    <tr>\n",
       "      <th>max</th>\n",
       "      <td>25000.000000</td>\n",
       "      <td>25000.000000</td>\n",
       "      <td>25000.000000</td>\n",
       "      <td>20.620000</td>\n",
       "      <td>931.130000</td>\n",
       "      <td>135000.000000</td>\n",
       "      <td>29.990000</td>\n",
       "      <td>8.000000</td>\n",
       "      <td>0.0</td>\n",
       "      <td>1.0</td>\n",
       "      <td>0.0</td>\n",
       "      <td>0.0</td>\n",
       "      <td>0.0</td>\n",
       "      <td>2.000000</td>\n",
       "      <td>0.0</td>\n",
       "    </tr>\n",
       "  </tbody>\n",
       "</table>\n",
       "</div>"
      ],
      "text/plain": [
       "          loan_amnt   funded_amnt  funded_amnt_inv      int_rate  \\\n",
       "count  34975.000000  34975.000000     34975.000000  34975.000000   \n",
       "mean    9943.981415   9738.709793      9210.152681     11.681276   \n",
       "std     6027.973427   5834.893632      5774.085098      3.482637   \n",
       "min      500.000000    500.000000         0.000000      5.420000   \n",
       "25%     5000.000000   5000.000000      4900.000000      8.900000   \n",
       "50%     9000.000000   8500.000000      8000.000000     11.580000   \n",
       "75%    14000.000000  13200.000000     12475.000000     14.120000   \n",
       "max    25000.000000  25000.000000     25000.000000     20.620000   \n",
       "\n",
       "        installment     annual_inc           dti  inq_last_6mths  \\\n",
       "count  34975.000000   34975.000000  34975.000000    34975.000000   \n",
       "mean     294.019110   59308.187947     13.411016        0.861301   \n",
       "std      177.169737   26631.932133      6.667068        1.061420   \n",
       "min       15.690000    4000.000000      0.000000        0.000000   \n",
       "25%      160.400000   39996.000000      8.310000        0.000000   \n",
       "50%      260.850000   55000.000000     13.520000        1.000000   \n",
       "75%      390.595000   75000.000000     18.680000        1.000000   \n",
       "max      931.130000  135000.000000     29.990000        8.000000   \n",
       "\n",
       "       collections_12_mths_ex_med  policy_code  acc_now_delinq  \\\n",
       "count                     34930.0      34975.0         34975.0   \n",
       "mean                          0.0          1.0             0.0   \n",
       "std                           0.0          0.0             0.0   \n",
       "min                           0.0          1.0             0.0   \n",
       "25%                           0.0          1.0             0.0   \n",
       "50%                           0.0          1.0             0.0   \n",
       "75%                           0.0          1.0             0.0   \n",
       "max                           0.0          1.0             0.0   \n",
       "\n",
       "       chargeoff_within_12_mths  delinq_amnt  pub_rec_bankruptcies  tax_liens  \n",
       "count                   34930.0      34975.0          34319.000000    34945.0  \n",
       "mean                        0.0          0.0              0.045252        0.0  \n",
       "std                         0.0          0.0              0.208559        0.0  \n",
       "min                         0.0          0.0              0.000000        0.0  \n",
       "25%                         0.0          0.0              0.000000        0.0  \n",
       "50%                         0.0          0.0              0.000000        0.0  \n",
       "75%                         0.0          0.0              0.000000        0.0  \n",
       "max                         0.0          0.0              2.000000        0.0  "
      ]
     },
     "execution_count": 47,
     "metadata": {},
     "output_type": "execute_result"
    }
   ],
   "source": [
    "data.describe()"
   ]
  },
  {
   "cell_type": "markdown",
   "id": "a960e959",
   "metadata": {},
   "source": [
    "# univariate analysis on categorical variables"
   ]
  },
  {
   "cell_type": "code",
   "execution_count": 48,
   "id": "f0ab663f",
   "metadata": {},
   "outputs": [
    {
     "data": {
      "text/plain": [
       "['term',\n",
       " 'grade',\n",
       " 'sub_grade',\n",
       " 'emp_length',\n",
       " 'home_ownership',\n",
       " 'verification_status',\n",
       " 'loan_status',\n",
       " 'pymnt_plan',\n",
       " 'purpose',\n",
       " 'pub_rec_bankruptcies']"
      ]
     },
     "execution_count": 48,
     "metadata": {},
     "output_type": "execute_result"
    }
   ],
   "source": [
    "cat_columns"
   ]
  },
  {
   "cell_type": "code",
   "execution_count": 49,
   "id": "b97fd668",
   "metadata": {},
   "outputs": [
    {
     "data": {
      "text/plain": [
       "<AxesSubplot:xlabel='loan_status', ylabel='count'>"
      ]
     },
     "execution_count": 49,
     "metadata": {},
     "output_type": "execute_result"
    },
    {
     "data": {
      "image/png": "[encoded data removed]",
      "text/plain": [
       "<Figure size 432x288 with 1 Axes>"
      ]
     },
     "metadata": {
      "needs_background": "light"
     },
     "output_type": "display_data"
    }
   ],
   "source": [
    "sns.countplot(x = 'loan_status', data = data)"
   ]
  },
  {
   "cell_type": "raw",
   "id": "e52a1254",
   "metadata": {},
   "source": []
  },
  {
   "cell_type": "code",
   "execution_count": 51,
   "id": "6506bf72",
   "metadata": {
    "scrolled": true
   },
   "outputs": [
    {
     "data": {
      "text/plain": [
       "<AxesSubplot:xlabel='grade', ylabel='count'>"
      ]
     },
     "execution_count": 51,
     "metadata": {},
     "output_type": "execute_result"
    },
    {
     "data": {
      "image/png": "[encoded data removed]",
      "text/plain": [
       "<Figure size 432x288 with 1 Axes>"
      ]
     },
     "metadata": {
      "needs_background": "light"
     },
     "output_type": "display_data"
    }
   ],
   "source": [
    "sns.countplot(x = 'grade', order = ['A', 'B', 'C', 'D', 'E', 'F', 'G'] , data = data[data.loan_status == 'Charged Off'])"
   ]
  },
  {
   "cell_type": "markdown",
   "id": "b31a762d",
   "metadata": {},
   "source": [
    "obeservation : B and C grade are having more chances for Default/Charged off"
   ]
  },
  {
   "cell_type": "raw",
   "id": "a6c39a5f",
   "metadata": {},
   "source": []
  },
  {
   "cell_type": "code",
   "execution_count": 52,
   "id": "b7430f9c",
   "metadata": {
    "scrolled": true
   },
   "outputs": [
    {
     "data": {
      "text/plain": [
       "<AxesSubplot:xlabel='sub_grade', ylabel='count'>"
      ]
     },
     "execution_count": 52,
     "metadata": {},
     "output_type": "execute_result"
    },
    {
     "data": {
      "image/png": "[encoded data removed]",
      "text/plain": [
       "<Figure size 1296x432 with 1 Axes>"
      ]
     },
     "metadata": {
      "needs_background": "light"
     },
     "output_type": "display_data"
    }
   ],
   "source": [
    "fig, ax = plt.subplots(figsize = (18,6))\n",
    "sns.countplot(x = 'sub_grade', data = data[data.loan_status == 'Charged Off'])"
   ]
  },
  {
   "cell_type": "markdown",
   "id": "0b8090fb",
   "metadata": {},
   "source": [
    "obeservation : \n",
    "- in grade B, sub_grade B5 has more chances for Default/Charged off,\n",
    "- in grade c, sub_grade C1 has more chances for Default/Charged off"
   ]
  },
  {
   "cell_type": "raw",
   "id": "bd03bf3b",
   "metadata": {},
   "source": []
  },
  {
   "cell_type": "code",
   "execution_count": 53,
   "id": "c4f2d983",
   "metadata": {
    "scrolled": true
   },
   "outputs": [
    {
     "data": {
      "text/plain": [
       "<AxesSubplot:xlabel='home_ownership', ylabel='count'>"
      ]
     },
     "execution_count": 53,
     "metadata": {},
     "output_type": "execute_result"
    },
    {
     "data": {
      "image/png": "[encoded data removed]",
      "text/plain": [
       "<Figure size 864x432 with 1 Axes>"
      ]
     },
     "metadata": {
      "needs_background": "light"
     },
     "output_type": "display_data"
    }
   ],
   "source": [
    "fig, ax = plt.subplots(figsize = (12,6))\n",
    "sns.countplot(x = 'home_ownership', data = data[data.loan_status == 'Charged Off'])"
   ]
  },
  {
   "cell_type": "markdown",
   "id": "d6e0cb19",
   "metadata": {},
   "source": [
    "obeservation : \n",
    "- Applicants with Rent type home_ownership has more chances for Default/Charged off\n"
   ]
  },
  {
   "cell_type": "raw",
   "id": "133d7708",
   "metadata": {},
   "source": []
  },
  {
   "cell_type": "code",
   "execution_count": 55,
   "id": "a128a03d",
   "metadata": {
    "scrolled": true
   },
   "outputs": [
    {
     "data": {
      "text/plain": [
       "<AxesSubplot:xlabel='count', ylabel='emp_length'>"
      ]
     },
     "execution_count": 55,
     "metadata": {},
     "output_type": "execute_result"
    },
    {
     "data": {
      "image/png": "[encoded data removed]",
      "text/plain": [
       "<Figure size 432x288 with 1 Axes>"
      ]
     },
     "metadata": {
      "needs_background": "light"
     },
     "output_type": "display_data"
    }
   ],
   "source": [
    "sns.countplot(y ='emp_length', data=data[data.loan_status == 'Charged Off'])"
   ]
  },
  {
   "cell_type": "markdown",
   "id": "0064c597",
   "metadata": {},
   "source": [
    "obeservation : \n",
    "- emp_length with 10+ years has more chances for Default/Charged off"
   ]
  },
  {
   "cell_type": "raw",
   "id": "d658d1d9",
   "metadata": {},
   "source": []
  },
  {
   "cell_type": "code",
   "execution_count": 57,
   "id": "65782dd0",
   "metadata": {
    "scrolled": true
   },
   "outputs": [
    {
     "data": {
      "text/plain": [
       "<AxesSubplot:xlabel='count', ylabel='purpose'>"
      ]
     },
     "execution_count": 57,
     "metadata": {},
     "output_type": "execute_result"
    },
    {
     "data": {
      "image/png": "[encoded data removed]",
      "text/plain": [
       "<Figure size 432x288 with 1 Axes>"
      ]
     },
     "metadata": {
      "needs_background": "light"
     },
     "output_type": "display_data"
    }
   ],
   "source": [
    "\n",
    "sns.countplot(y ='purpose', data=data[data.loan_status == 'Charged Off'])\n"
   ]
  },
  {
   "cell_type": "markdown",
   "id": "ccf905e2",
   "metadata": {},
   "source": [
    "obeservation : \n",
    "- Loan applicants with debt_consolidation purpose has more chances for Default/Charged off"
   ]
  },
  {
   "cell_type": "raw",
   "id": "4f8a110c",
   "metadata": {},
   "source": []
  },
  {
   "cell_type": "code",
   "execution_count": 58,
   "id": "6c0439ba",
   "metadata": {},
   "outputs": [
    {
     "data": {
      "text/plain": [
       "<AxesSubplot:xlabel='count', ylabel='term'>"
      ]
     },
     "execution_count": 58,
     "metadata": {},
     "output_type": "execute_result"
    },
    {
     "data": {
      "image/png": "[encoded data removed]",
      "text/plain": [
       "<Figure size 432x288 with 1 Axes>"
      ]
     },
     "metadata": {
      "needs_background": "light"
     },
     "output_type": "display_data"
    }
   ],
   "source": [
    "sns.countplot(y ='term', data=data[data.loan_status == 'Charged Off'])"
   ]
  },
  {
   "cell_type": "markdown",
   "id": "bdea6adb",
   "metadata": {},
   "source": [
    "obeservation : \n",
    "- Loan applicants with 36 months term has more chances for Default/Charged off"
   ]
  },
  {
   "cell_type": "raw",
   "id": "a3230f25",
   "metadata": {},
   "source": []
  },
  {
   "cell_type": "code",
   "execution_count": 59,
   "id": "a237703f",
   "metadata": {},
   "outputs": [
    {
     "data": {
      "text/plain": [
       "<AxesSubplot:xlabel='verification_status', ylabel='count'>"
      ]
     },
     "execution_count": 59,
     "metadata": {},
     "output_type": "execute_result"
    },
    {
     "data": {
      "image/png": "[encoded data removed]",
      "text/plain": [
       "<Figure size 432x288 with 1 Axes>"
      ]
     },
     "metadata": {
      "needs_background": "light"
     },
     "output_type": "display_data"
    }
   ],
   "source": [
    "sns.countplot(x ='verification_status', data=data[data.loan_status == 'Charged Off'])"
   ]
  },
  {
   "cell_type": "raw",
   "id": "95d62940",
   "metadata": {},
   "source": []
  },
  {
   "cell_type": "markdown",
   "id": "c4fa391d",
   "metadata": {},
   "source": [
    "# univariate analysis on continuous variables"
   ]
  },
  {
   "cell_type": "code",
   "execution_count": 61,
   "id": "23bf077a",
   "metadata": {},
   "outputs": [],
   "source": [
    "bins = [0, 10, 20, 30]\n",
    "data['int_rate_bins'] = pd.cut(data['int_rate'], bins, labels= ['0%-10%', '10%-20%','20%-30%'])"
   ]
  },
  {
   "cell_type": "code",
   "execution_count": 62,
   "id": "0edbba16",
   "metadata": {},
   "outputs": [
    {
     "data": {
      "text/plain": [
       "<AxesSubplot:xlabel='int_rate_bins', ylabel='count'>"
      ]
     },
     "execution_count": 62,
     "metadata": {},
     "output_type": "execute_result"
    },
    {
     "data": {
      "image/png": "[encoded data removed]",
      "text/plain": [
       "<Figure size 864x432 with 1 Axes>"
      ]
     },
     "metadata": {
      "needs_background": "light"
     },
     "output_type": "display_data"
    }
   ],
   "source": [
    "fig, ax = plt.subplots(figsize = (12,6))\n",
    "sns.countplot(x ='int_rate_bins', data=data[data.loan_status == 'Charged Off'])"
   ]
  },
  {
   "cell_type": "markdown",
   "id": "fdb11f4f",
   "metadata": {},
   "source": [
    "obeservation : \n",
    "- Loan applicants with 10%-20% intrest rate has more chances for Default/Charged off"
   ]
  },
  {
   "cell_type": "raw",
   "id": "2825d727",
   "metadata": {},
   "source": []
  },
  {
   "cell_type": "code",
   "execution_count": 65,
   "id": "8b487fa0",
   "metadata": {},
   "outputs": [],
   "source": [
    "bins=[20000,40000,60000,80000,100000,120000]\n",
    "data['annual_inc_bins'] = pd.cut(data['annual_inc'], bins, labels= ['<40k', '40k-60k', '60k-80k', '80k-100k', '100k-120K'])\n"
   ]
  },
  {
   "cell_type": "code",
   "execution_count": 66,
   "id": "1014ca44",
   "metadata": {},
   "outputs": [
    {
     "data": {
      "text/plain": [
       "<AxesSubplot:xlabel='annual_inc_bins', ylabel='count'>"
      ]
     },
     "execution_count": 66,
     "metadata": {},
     "output_type": "execute_result"
    },
    {
     "data": {
      "image/png": "[encoded data removed]",
      "text/plain": [
       "<Figure size 864x432 with 1 Axes>"
      ]
     },
     "metadata": {
      "needs_background": "light"
     },
     "output_type": "display_data"
    }
   ],
   "source": [
    "fig, ax = plt.subplots(figsize = (12,6))\n",
    "sns.countplot(x ='annual_inc_bins', data=data[data.loan_status == 'Charged Off'])"
   ]
  },
  {
   "cell_type": "markdown",
   "id": "9a92084b",
   "metadata": {},
   "source": [
    "obeservation : \n",
    "- Loan applicants with <80K annual income has more chances for Default/Charged off\n",
    "-  Loan applicants with >80K annual income has less chances for Default/Charged off"
   ]
  },
  {
   "cell_type": "raw",
   "id": "6c414ba2",
   "metadata": {},
   "source": []
  },
  {
   "cell_type": "code",
   "execution_count": 67,
   "id": "6c2693fc",
   "metadata": {},
   "outputs": [],
   "source": [
    "data['installment_bins'] = pd.cut(data['installment'], bins=10,precision =0, labels=['15-109','109-203','203-296','296-389','389-483','483-576','576-670','670-763','763-857','857-950'])"
   ]
  },
  {
   "cell_type": "code",
   "execution_count": 68,
   "id": "ee77db10",
   "metadata": {
    "scrolled": true
   },
   "outputs": [
    {
     "data": {
      "text/plain": [
       "<AxesSubplot:xlabel='installment_bins', ylabel='count'>"
      ]
     },
     "execution_count": 68,
     "metadata": {},
     "output_type": "execute_result"
    },
    {
     "data": {
      "image/png": "[encoded data removed]",
      "text/plain": [
       "<Figure size 864x432 with 1 Axes>"
      ]
     },
     "metadata": {
      "needs_background": "light"
     },
     "output_type": "display_data"
    }
   ],
   "source": [
    "fig, ax = plt.subplots(figsize = (12,6))\n",
    "sns.countplot(x ='installment_bins', data=data[data.loan_status == 'Charged Off'])"
   ]
  },
  {
   "cell_type": "raw",
   "id": "e2127b05",
   "metadata": {},
   "source": []
  },
  {
   "cell_type": "code",
   "execution_count": 69,
   "id": "1a36c5ee",
   "metadata": {},
   "outputs": [],
   "source": [
    "data['funded_amnt_inv_bins'] = pd.cut(data['funded_amnt_inv'], bins=10, precision=0, labels=['<2.2K','2.2k-4.4k','4.4k-6.6k','6.6k-8.8k','8.8k-11k','11k-13.2k','13.2k-15.4k','15.4k-17.6k', '17.6k-19.8k', '19.8k-22k'])"
   ]
  },
  {
   "cell_type": "code",
   "execution_count": 70,
   "id": "ea4e3a2d",
   "metadata": {
    "scrolled": true
   },
   "outputs": [
    {
     "data": {
      "text/plain": [
       "<AxesSubplot:xlabel='funded_amnt_inv_bins', ylabel='count'>"
      ]
     },
     "execution_count": 70,
     "metadata": {},
     "output_type": "execute_result"
    },
    {
     "data": {
      "image/png": "[encoded data removed]",
      "text/plain": [
       "<Figure size 1296x432 with 1 Axes>"
      ]
     },
     "metadata": {
      "needs_background": "light"
     },
     "output_type": "display_data"
    }
   ],
   "source": [
    "fig, ax = plt.subplots(figsize = (18,6))\n",
    "sns.countplot(x ='funded_amnt_inv_bins', data=data[data.loan_status == 'Charged Off'])"
   ]
  },
  {
   "cell_type": "raw",
   "id": "be1bd1a3",
   "metadata": {},
   "source": []
  },
  {
   "cell_type": "code",
   "execution_count": 71,
   "id": "05eb4dbd",
   "metadata": {},
   "outputs": [],
   "source": [
    "data['loan_amnt_bins'] = pd.cut(data['loan_amnt'], bins=10,precision =0, labels=['<2.2K','2.2k-4.4k','4.4k-6.6k','6.6k-8.8k','8.8k-11k','11k-13.2k','13.2k-15.4k','15.4k-17.6k', '17.6k-19.8k', '19.8k-22k'])"
   ]
  },
  {
   "cell_type": "code",
   "execution_count": 72,
   "id": "23f0baf7",
   "metadata": {
    "scrolled": true
   },
   "outputs": [
    {
     "data": {
      "text/plain": [
       "<AxesSubplot:xlabel='loan_amnt_bins', ylabel='count'>"
      ]
     },
     "execution_count": 72,
     "metadata": {},
     "output_type": "execute_result"
    },
    {
     "data": {
      "image/png": "[encoded data removed]",
      "text/plain": [
       "<Figure size 1296x432 with 1 Axes>"
      ]
     },
     "metadata": {
      "needs_background": "light"
     },
     "output_type": "display_data"
    }
   ],
   "source": [
    "fig, ax = plt.subplots(figsize = (18,6))\n",
    "sns.countplot(x ='loan_amnt_bins', data=data[data.loan_status == 'Charged Off'])"
   ]
  },
  {
   "cell_type": "raw",
   "id": "dbd9604a",
   "metadata": {},
   "source": []
  },
  {
   "cell_type": "code",
   "execution_count": 74,
   "id": "f1fd055c",
   "metadata": {},
   "outputs": [],
   "source": [
    "data['dti_bins'] = pd.cut(data['dti'], bins=5,precision =0, labels= ['0-6', '6-12', '12-18', '18-24', '24-30'])"
   ]
  },
  {
   "cell_type": "code",
   "execution_count": 75,
   "id": "42cffe1f",
   "metadata": {
    "scrolled": false
   },
   "outputs": [
    {
     "data": {
      "text/plain": [
       "<AxesSubplot:xlabel='dti_bins', ylabel='count'>"
      ]
     },
     "execution_count": 75,
     "metadata": {},
     "output_type": "execute_result"
    },
    {
     "data": {
      "image/png": "[encoded data removed]",
      "text/plain": [
       "<Figure size 1296x432 with 1 Axes>"
      ]
     },
     "metadata": {
      "needs_background": "light"
     },
     "output_type": "display_data"
    }
   ],
   "source": [
    "fig, ax = plt.subplots(figsize = (18,6))\n",
    "sns.countplot(x ='dti_bins', data=data[data.loan_status == 'Charged Off'])"
   ]
  },
  {
   "cell_type": "markdown",
   "id": "366a5f5f",
   "metadata": {},
   "source": [
    "obeservation : \n",
    "- Loan applicants with 12-18 dti has more chances for Default/Charged off"
   ]
  },
  {
   "cell_type": "raw",
   "id": "bc0cf039",
   "metadata": {},
   "source": []
  },
  {
   "cell_type": "code",
   "execution_count": 76,
   "id": "332e2bc3",
   "metadata": {},
   "outputs": [
    {
     "data": {
      "text/plain": [
       "['loan_amnt',\n",
       " 'funded_amnt',\n",
       " 'funded_amnt_inv',\n",
       " 'int_rate',\n",
       " 'installment',\n",
       " 'annual_inc',\n",
       " 'dti']"
      ]
     },
     "execution_count": 76,
     "metadata": {},
     "output_type": "execute_result"
    }
   ],
   "source": [
    "cnt_columns"
   ]
  },
  {
   "cell_type": "code",
   "execution_count": 77,
   "id": "6b1d81d3",
   "metadata": {},
   "outputs": [
    {
     "data": {
      "text/plain": [
       "['term',\n",
       " 'grade',\n",
       " 'sub_grade',\n",
       " 'emp_length',\n",
       " 'home_ownership',\n",
       " 'verification_status',\n",
       " 'loan_status',\n",
       " 'pymnt_plan',\n",
       " 'purpose',\n",
       " 'pub_rec_bankruptcies']"
      ]
     },
     "execution_count": 77,
     "metadata": {},
     "output_type": "execute_result"
    }
   ],
   "source": [
    "cat_columns"
   ]
  },
  {
   "cell_type": "markdown",
   "id": "a67a48fc",
   "metadata": {},
   "source": [
    "# bivariate analysis"
   ]
  },
  {
   "cell_type": "code",
   "execution_count": 86,
   "id": "2e08f954",
   "metadata": {
    "scrolled": true
   },
   "outputs": [
    {
     "data": {
      "text/plain": [
       "<AxesSubplot:xlabel='annual_inc', ylabel='purpose'>"
      ]
     },
     "execution_count": 86,
     "metadata": {},
     "output_type": "execute_result"
    },
    {
     "data": {
      "image/png": "[encoded data removed]",
      "text/plain": [
       "<Figure size 864x432 with 1 Axes>"
      ]
     },
     "metadata": {
      "needs_background": "light"
     },
     "output_type": "display_data"
    }
   ],
   "source": [
    "plt.figure(figsize=(12,6))\n",
    "sns.barplot(x ='annual_inc', y='purpose', data=data, hue ='loan_status')"
   ]
  },
  {
   "cell_type": "markdown",
   "id": "5b009567",
   "metadata": {},
   "source": [
    "obeservation : \n",
    "- Loan applicants with <60K annual income and who are looking for home_improvement & small_business has more chances for Default/Charged off\n"
   ]
  },
  {
   "cell_type": "raw",
   "id": "d35ae11e",
   "metadata": {},
   "source": []
  },
  {
   "cell_type": "code",
   "execution_count": 79,
   "id": "8877c1ff",
   "metadata": {
    "scrolled": true
   },
   "outputs": [
    {
     "data": {
      "text/plain": [
       "<AxesSubplot:xlabel='annual_inc_bins', ylabel='loan_amnt'>"
      ]
     },
     "execution_count": 79,
     "metadata": {},
     "output_type": "execute_result"
    },
    {
     "data": {
      "image/png": "[encoded data removed]",
      "text/plain": [
       "<Figure size 864x432 with 1 Axes>"
      ]
     },
     "metadata": {
      "needs_background": "light"
     },
     "output_type": "display_data"
    }
   ],
   "source": [
    "plt.figure(figsize=(12,6))\n",
    "sns.barplot(x ='annual_inc_bins', y='loan_amnt', data=data, hue ='loan_status')"
   ]
  },
  {
   "cell_type": "raw",
   "id": "6606d39d",
   "metadata": {},
   "source": []
  },
  {
   "cell_type": "code",
   "execution_count": 80,
   "id": "ca44b50b",
   "metadata": {
    "scrolled": true
   },
   "outputs": [
    {
     "data": {
      "text/plain": [
       "<AxesSubplot:xlabel='grade', ylabel='loan_amnt'>"
      ]
     },
     "execution_count": 80,
     "metadata": {},
     "output_type": "execute_result"
    },
    {
     "data": {
      "image/png": "[encoded data removed]",
      "text/plain": [
       "<Figure size 864x432 with 1 Axes>"
      ]
     },
     "metadata": {
      "needs_background": "light"
     },
     "output_type": "display_data"
    }
   ],
   "source": [
    "plt.figure(figsize=(12,6))\n",
    "sns.barplot(x ='grade', y='loan_amnt', data=data, hue ='loan_status')"
   ]
  },
  {
   "cell_type": "code",
   "execution_count": 81,
   "id": "838e9299",
   "metadata": {
    "scrolled": true
   },
   "outputs": [
    {
     "data": {
      "text/plain": [
       "<AxesSubplot:xlabel='annual_inc_bins', ylabel='int_rate'>"
      ]
     },
     "execution_count": 81,
     "metadata": {},
     "output_type": "execute_result"
    },
    {
     "data": {
      "image/png": "[encoded data removed]",
      "text/plain": [
       "<Figure size 864x432 with 1 Axes>"
      ]
     },
     "metadata": {
      "needs_background": "light"
     },
     "output_type": "display_data"
    }
   ],
   "source": [
    "plt.figure(figsize=(12,6))\n",
    "sns.barplot(x ='annual_inc_bins', y='int_rate', data=data, hue ='loan_status')"
   ]
  },
  {
   "cell_type": "raw",
   "id": "c28fb0dd",
   "metadata": {},
   "source": []
  },
  {
   "cell_type": "code",
   "execution_count": 82,
   "id": "af664c9e",
   "metadata": {},
   "outputs": [
    {
     "data": {
      "text/plain": [
       "<AxesSubplot:xlabel='grade', ylabel='int_rate'>"
      ]
     },
     "execution_count": 82,
     "metadata": {},
     "output_type": "execute_result"
    },
    {
     "data": {
      "image/png": "[encoded data removed]",
      "text/plain": [
       "<Figure size 864x432 with 1 Axes>"
      ]
     },
     "metadata": {
      "needs_background": "light"
     },
     "output_type": "display_data"
    }
   ],
   "source": [
    "plt.figure(figsize=(12,6))\n",
    "sns.barplot(x ='grade', y='int_rate', data=data, hue ='loan_status')"
   ]
  },
  {
   "cell_type": "markdown",
   "id": "a410be8b",
   "metadata": {},
   "source": [
    "obeservation :\n",
    "for grade G and intrest rate > 17.5% has more chances of Default/charged off"
   ]
  },
  {
   "cell_type": "raw",
   "id": "05e87b42",
   "metadata": {},
   "source": []
  },
  {
   "cell_type": "code",
   "execution_count": 83,
   "id": "67b83f4d",
   "metadata": {
    "scrolled": true
   },
   "outputs": [
    {
     "data": {
      "text/plain": [
       "<AxesSubplot:xlabel='loan_amnt_bins', ylabel='int_rate'>"
      ]
     },
     "execution_count": 83,
     "metadata": {},
     "output_type": "execute_result"
    },
    {
     "data": {
      "image/png": "[encoded data removed]",
      "text/plain": [
       "<Figure size 864x432 with 1 Axes>"
      ]
     },
     "metadata": {
      "needs_background": "light"
     },
     "output_type": "display_data"
    }
   ],
   "source": [
    "plt.figure(figsize=(12,6))\n",
    "sns.barplot(x ='loan_amnt_bins', y='int_rate', data=data, hue ='loan_status')"
   ]
  },
  {
   "cell_type": "markdown",
   "id": "56b898fd",
   "metadata": {},
   "source": [
    "Loan applicants with 19.8K to 22k loan amount and interest rate more than 14% has more chances for Default/Charged off"
   ]
  },
  {
   "cell_type": "code",
   "execution_count": null,
   "id": "b2c899d2",
   "metadata": {},
   "outputs": [],
   "source": []
  },
  {
   "cell_type": "code",
   "execution_count": 84,
   "id": "30683b28",
   "metadata": {
    "scrolled": true
   },
   "outputs": [
    {
     "data": {
      "text/plain": [
       "<AxesSubplot:xlabel='term', ylabel='int_rate'>"
      ]
     },
     "execution_count": 84,
     "metadata": {},
     "output_type": "execute_result"
    },
    {
     "data": {
      "image/png": "[encoded data removed]",
      "text/plain": [
       "<Figure size 864x432 with 1 Axes>"
      ]
     },
     "metadata": {
      "needs_background": "light"
     },
     "output_type": "display_data"
    }
   ],
   "source": [
    "plt.figure(figsize=(12,6))\n",
    "sns.barplot(x ='term', y='int_rate', data=data, hue ='loan_status')"
   ]
  },
  {
   "cell_type": "markdown",
   "id": "728c7caf",
   "metadata": {},
   "source": [
    "Loan applicants with 60 months term and >14% interest rate has more chances for Default/Charged off"
   ]
  },
  {
   "cell_type": "raw",
   "id": "d022a542",
   "metadata": {},
   "source": []
  },
  {
   "cell_type": "markdown",
   "id": "4e410935",
   "metadata": {},
   "source": [
    "# obeservations"
   ]
  },
  {
   "cell_type": "markdown",
   "id": "5c5bf745",
   "metadata": {},
   "source": [
    "1.  B and C grade are having more chances for Default/Charged off\n",
    "2. - in grade B, sub_grade B5 has more chances for Default/Charged off,\n",
    "   - in grade c, sub_grade C1 has more chances for Default/Charged off\n",
    "3. Applicants with Rent type home_ownership has more chances for Default/Charged off\n",
    "4. emp_length with 10+ years has more chances for Default/Charged off\n",
    "5.  Loan applicants with debt_consolidation purpose has more chances for Default/Charged off\n",
    "6. Loan applicants with 36 months term has more chances for Default/Charged off\n",
    "7. Loan applicants with 10%-20% intrest rate has more chances for Default/Charged off\n",
    "8. - Loan applicants with <80K annual income has more chances for Default/Charged off\n",
    "   -  Loan applicants with >80K annual income has less chances for Default/Charged off\n",
    "9. Loan applicants with <60K annual income and who are looking for home_improvement & small_business has more chances for Default/Charged off\n",
    "10. for grade G and intrest rate > 17.5% has more chances of Default/charged off\n",
    "11. Loan applicants with 19.8K to 22k loan amount and interest rate more than 14% has more chances for Default/Charged off\n",
    "12. Loan applicants with 60 months term and >14% interest rate has more chances for Default/Charged off."
   ]
  },
  {
   "cell_type": "code",
   "execution_count": null,
   "id": "fc161623",
   "metadata": {},
   "outputs": [],
   "source": []
  }
 ],
 "metadata": {
  "kernelspec": {
   "display_name": "Python 3 (ipykernel)",
   "language": "python",
   "name": "python3"
  },
  "language_info": {
   "codemirror_mode": {
    "name": "ipython",
    "version": 3
   },
   "file_extension": ".py",
   "mimetype": "text/x-python",
   "name": "python",
   "nbconvert_exporter": "python",
   "pygments_lexer": "ipython3",
   "version": "3.9.7"
  }
 },
 "nbformat": 4,
 "nbformat_minor": 5
}
